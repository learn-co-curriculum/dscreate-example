{
 "cells": [
  {
   "cell_type": "markdown",
   "metadata": {
    "index": "Placeholder"
   },
   "source": [
    "*YOUR ANSWER HERE*"
   ]
  },
  {
   "cell_type": "markdown",
   "metadata": {
    "index": 2
   },
   "source": [
    "**In the cell below, create a variable called `simple_list` that contains `1`, `2`, and `3` in descending order.**"
   ]
  },
  {
   "cell_type": "code",
   "execution_count": null,
   "metadata": {
    "ExecuteTime": {
     "end_time": "2021-05-06T19:47:55.276077Z",
     "start_time": "2021-05-06T19:47:55.274008Z"
    },
    "index": 3
   },
   "outputs": [],
   "source": [
    "# Your code here\n",
    "simple_list = [1,2,3]"
   ]
  },
  {
   "cell_type": "markdown",
   "metadata": {
    "index": 5
   },
   "source": [
    "**Creating Tests**"
   ]
  },
  {
   "cell_type": "code",
   "execution_count": null,
   "metadata": {
    "ExecuteTime": {
     "end_time": "2021-05-06T19:47:55.799433Z",
     "start_time": "2021-05-06T19:47:55.797231Z"
    },
    "index": 6
   },
   "outputs": [],
   "source": [
    "from dscreate.tests import Tests\n",
    "tests = Tests()"
   ]
  },
  {
   "cell_type": "markdown",
   "metadata": {
    "index": 8
   },
   "source": [
    "***Run the cell below to test your work!***"
   ]
  },
  {
   "cell_type": "code",
   "execution_count": null,
   "metadata": {
    "ExecuteTime": {
     "end_time": "2021-05-06T19:47:56.510506Z",
     "start_time": "2021-05-06T19:47:56.501106Z"
    },
    "index": 9
   },
   "outputs": [],
   "source": [
    "tests.run('test_list', simple_list)"
   ]
  },
  {
   "cell_type": "markdown",
   "metadata": {
    "index": 10
   },
   "source": [
    "**Return message**"
   ]
  },
  {
   "cell_type": "code",
   "execution_count": null,
   "metadata": {},
   "outputs": [],
   "source": []
  },
  {
   "cell_type": "code",
   "execution_count": null,
   "metadata": {
    "ExecuteTime": {
     "end_time": "2021-05-06T19:48:16.663482Z",
     "start_time": "2021-05-06T19:48:16.659531Z"
    },
    "index": 12
   },
   "outputs": [],
   "source": [
    "tests.run('test_list_output', simple_list)"
   ]
  },
  {
   "cell_type": "markdown",
   "metadata": {
    "index": 13
   },
   "source": [
    "---------\n",
    "\n",
    "**Multiple tests**\n",
    "\n",
    "In the cell below, create a class called `SimpleClass`.\n",
    "- This class should have an attribute called `three` assigned to the integer 3. "
   ]
  },
  {
   "cell_type": "code",
   "execution_count": null,
   "metadata": {
    "ExecuteTime": {
     "end_time": "2021-05-06T19:49:01.347007Z",
     "start_time": "2021-05-06T19:49:01.344292Z"
    },
    "index": 14
   },
   "outputs": [],
   "source": [
    "# Your code here\n",
    "\n",
    "class SimpleClass:\n",
    "    def __init__(self):\n",
    "        self.three = 4"
   ]
  },
  {
   "cell_type": "markdown",
   "metadata": {
    "index": 16
   },
   "source": [
    "****Run the cell below to check you work!****"
   ]
  },
  {
   "cell_type": "code",
   "execution_count": null,
   "metadata": {
    "ExecuteTime": {
     "end_time": "2021-05-06T19:49:02.823257Z",
     "start_time": "2021-05-06T19:49:02.818135Z"
    },
    "index": 17
   },
   "outputs": [],
   "source": [
    "tests.run('ClassTest', SimpleClass)"
   ]
  }
 ],
 "metadata": {
  "kernelspec": {
   "display_name": "Python 3",
   "language": "python",
   "name": "python3"
  },
  "language_info": {
   "codemirror_mode": {
    "name": "ipython",
    "version": 3
   },
   "file_extension": ".py",
   "mimetype": "text/x-python",
   "name": "python",
   "nbconvert_exporter": "python",
   "pygments_lexer": "ipython3",
   "version": "3.8.5"
  },
  "toc": {
   "base_numbering": 1,
   "nav_menu": {},
   "number_sections": false,
   "sideBar": true,
   "skip_h1_title": false,
   "title_cell": "Table of Contents",
   "title_sidebar": "Contents",
   "toc_cell": false,
   "toc_position": {},
   "toc_section_display": true,
   "toc_window_display": false
  }
 },
 "nbformat": 4,
 "nbformat_minor": 2
}
