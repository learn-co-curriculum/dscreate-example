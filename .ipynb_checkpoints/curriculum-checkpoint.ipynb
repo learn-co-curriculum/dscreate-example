{
 "cells": [
  {
   "cell_type": "markdown",
   "metadata": {},
   "source": [
    "==SOLUTION==\n",
    "\n",
    ">This notebook is meant for curriculum development. \n",
    "\n",
    "## Instructions:\n",
    "\n",
    "### Overview\n",
    "\n",
    "When you have completed writing your lesson, run `ds -create` from the root of this lesson folder. This will create an `index.ipynb` notebook containing the student facing content in the root directory of this lesson. An `index.ipynb` file will be added to the `.solution_files` directory containing all solution materials. \n",
    "\n",
    "## How to use this file\n",
    "\n",
    "**Solution Tags:**\n",
    "\n",
    "Markdown cells: \n",
    "- `==SOLUTION==`\n",
    "\n",
    "Code cells: \n",
    "- `#__SOLUTION__`\n",
    "\n",
    "\n",
    "#### Create Solution Cells:\n",
    "- To designate a cell as a solution, place the solution tag on its own line within the cell. This cell is an example of a \"solution markdown cell\".\n",
    "\n",
    "- Below is an example of a solution code cell."
   ]
  },
  {
   "cell_type": "code",
   "execution_count": 0,
   "metadata": {},
   "outputs": [],
   "source": [
    "#__SOLUTION__\n",
    "\n",
    "\"\"\"\n",
    "This is a solution cell and \n",
    "will not be copied \n",
    "to the lesson index.ipynb file\n",
    "\"\"\""
   ]
  },
  {
   "cell_type": "markdown",
   "metadata": {},
   "source": [
    "**In the cell below, create a variable called `simple_list` that contains `1`, `2`, and `3` in descending order.**"
   ]
  },
  {
   "cell_type": "code",
   "execution_count": null,
   "metadata": {},
   "outputs": [],
   "source": [
    "# Your code here"
   ]
  },
  {
   "cell_type": "code",
   "execution_count": 1,
   "metadata": {
    "ExecuteTime": {
     "end_time": "2021-05-06T19:38:01.606031Z",
     "start_time": "2021-05-06T19:38:01.603229Z"
    }
   },
   "outputs": [],
   "source": [
    "#__SOLUTION__\n",
    "simple_list = [3,2,1]"
   ]
  },
  {
   "cell_type": "markdown",
   "metadata": {},
   "source": [
    "**Creating Tests**"
   ]
  },
  {
   "cell_type": "code",
   "execution_count": 2,
   "metadata": {
    "ExecuteTime": {
     "end_time": "2021-05-06T19:38:34.490437Z",
     "start_time": "2021-05-06T19:38:34.486175Z"
    }
   },
   "outputs": [],
   "source": [
    "from dscreate.tests import Tests\n",
    "tests = Tests()"
   ]
  },
  {
   "cell_type": "code",
   "execution_count": 7,
   "metadata": {
    "ExecuteTime": {
     "end_time": "2021-05-06T19:40:40.063567Z",
     "start_time": "2021-05-06T19:40:40.060243Z"
    }
   },
   "outputs": [],
   "source": [
    "#__SOLUTION__\n",
    "simple_list = [1,2,3]\n",
    "\n",
    "def test_list(student_answer):\n",
    "    if student_answer == [3,2,1]:\n",
    "        return True\n",
    "    \n",
    "tests.save(test_list, 'test_list')"
   ]
  },
  {
   "cell_type": "markdown",
   "metadata": {},
   "source": [
    "***Run the cell below to test your work!***"
   ]
  },
  {
   "cell_type": "code",
   "execution_count": 6,
   "metadata": {
    "ExecuteTime": {
     "end_time": "2021-05-06T19:40:33.805761Z",
     "start_time": "2021-05-06T19:40:33.801673Z"
    }
   },
   "outputs": [
    {
     "data": {
      "text/markdown": [
       "**test_list:** ❌"
      ],
      "text/plain": [
       "<IPython.core.display.Markdown object>"
      ]
     },
     "metadata": {},
     "output_type": "display_data"
    }
   ],
   "source": [
    "tests.run('test_list', simple_list)"
   ]
  },
  {
   "cell_type": "markdown",
   "metadata": {},
   "source": [
    "**Return message**"
   ]
  },
  {
   "cell_type": "code",
   "execution_count": 10,
   "metadata": {
    "ExecuteTime": {
     "end_time": "2021-05-06T19:41:57.868144Z",
     "start_time": "2021-05-06T19:41:57.864831Z"
    }
   },
   "outputs": [],
   "source": [
    "#__SOLUTION__\n",
    "simple_list = [3,2,1]\n",
    "\n",
    "def test_list(student_answer):\n",
    "    if student_answer == [3,2,1]:\n",
    "        return 'The list was created correctly!'\n",
    "    else:\n",
    "        return 'The list wrong.'\n",
    "    \n",
    "tests.save(test_list, 'test_list_output', assertion=False)"
   ]
  },
  {
   "cell_type": "code",
   "execution_count": 11,
   "metadata": {
    "ExecuteTime": {
     "end_time": "2021-05-06T19:41:58.283289Z",
     "start_time": "2021-05-06T19:41:58.279730Z"
    }
   },
   "outputs": [
    {
     "data": {
      "text/markdown": [
       "**test_list_output:** The list was created correctly!"
      ],
      "text/plain": [
       "<IPython.core.display.Markdown object>"
      ]
     },
     "metadata": {},
     "output_type": "display_data"
    }
   ],
   "source": [
    "tests.run('test_list_output', simple_list)"
   ]
  },
  {
   "cell_type": "markdown",
   "metadata": {},
   "source": [
    "---------\n",
    "\n",
    "**Multiple tests**\n",
    "\n",
    "In the cell below, create a class called `SimpleClass`.\n",
    "- This class should have an attribute called `three` assigned to the integer 3. "
   ]
  },
  {
   "cell_type": "code",
   "execution_count": null,
   "metadata": {},
   "outputs": [],
   "source": [
    "# Your code here"
   ]
  },
  {
   "cell_type": "code",
   "execution_count": 12,
   "metadata": {
    "ExecuteTime": {
     "end_time": "2021-05-06T19:46:27.406811Z",
     "start_time": "2021-05-06T19:46:27.402505Z"
    }
   },
   "outputs": [],
   "source": [
    "#__SOLUTION__\n",
    "\n",
    "class SimpleClassTest:\n",
    "    def __init__(self, student_answer):\n",
    "        self.answer = student_answer()\n",
    "        \n",
    "    def test_attribute_name(self):\n",
    "        if hasattr(self.answer, 'three'):\n",
    "            return True\n",
    "        \n",
    "    def test_attribute_data(self, output=True):\n",
    "        try:\n",
    "            answer = self.answer.three\n",
    "            if answer == 3:\n",
    "                return 'The attribute was assigned correctly!'\n",
    "            else:\n",
    "                return f'The attribute is set to {answer} but should be set to 3!'\n",
    "        except:\n",
    "            return 'The attribute threw an error.'\n",
    "        \n",
    "tests.save(SimpleClassTest, 'ClassTest')"
   ]
  },
  {
   "cell_type": "markdown",
   "metadata": {},
   "source": [
    "****Run the cell below to check you work!****"
   ]
  },
  {
   "cell_type": "code",
   "execution_count": null,
   "metadata": {},
   "outputs": [],
   "source": [
    "tests.run('ClassTest', SimpleClass)"
   ]
  }
 ],
 "metadata": {
  "kernelspec": {
   "display_name": "Python 3",
   "language": "python",
   "name": "python3"
  },
  "language_info": {
   "codemirror_mode": {
    "name": "ipython",
    "version": 3
   },
   "file_extension": ".py",
   "mimetype": "text/x-python",
   "name": "python",
   "nbconvert_exporter": "python",
   "pygments_lexer": "ipython3",
   "version": "3.8.5"
  },
  "toc": {
   "base_numbering": 1,
   "nav_menu": {},
   "number_sections": false,
   "sideBar": true,
   "skip_h1_title": false,
   "title_cell": "Table of Contents",
   "title_sidebar": "Contents",
   "toc_cell": false,
   "toc_position": {},
   "toc_section_display": true,
   "toc_window_display": false
  }
 },
 "nbformat": 4,
 "nbformat_minor": 2
}
